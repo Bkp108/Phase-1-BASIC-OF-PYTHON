{
 "cells": [
  {
   "cell_type": "markdown",
   "id": "9349e7f0",
   "metadata": {},
   "source": [
    "## ✅ 4. Data Structures in Python\n",
    "\n",
    "- **Lists**\n",
    "  - Creating, Accessing, Updating\n",
    "  - List methods\n",
    "  - List Comprehensions\n",
    "- **Tuples**\n",
    "  - Immutable sequences\n",
    "- **Sets**\n",
    "  - Unique values only\n",
    "  - Set operations\n",
    "- **Dictionaries**\n",
    "  - Key-value pairs\n",
    "  - Dictionary methods\n",
    "- Built-in Functions for Data Structures (`len()`, `min()`, `max()`, `sum()` etc.)\n",
    "\n",
    "---"
   ]
  },
  {
   "cell_type": "markdown",
   "id": "4a48396b",
   "metadata": {},
   "source": [
    "# ✅ 4. Data Structures in Python\n",
    "\n",
    "Python provides several built-in data structures, but we’ll start with the most commonly used one:\n",
    "\n",
    "---\n",
    "\n",
    "## 🔹 Lists in Python\n",
    "\n",
    "A **list** is an **ordered**, **mutable** (changeable) collection that can hold items of any data type.\n",
    "\n",
    "### ✅ 1. Creating a List"
   ]
  },
  {
   "cell_type": "code",
   "execution_count": null,
   "id": "9ab32e56",
   "metadata": {},
   "outputs": [],
   "source": [
    "# Empty list\n",
    "my_list = []\n",
    "\n",
    "# List of integers\n",
    "numbers = [1, 2, 3, 4, 5]\n",
    "\n",
    "# List of mixed data types\n",
    "mixed = [1, \"apple\", 3.14, True]"
   ]
  },
  {
   "cell_type": "markdown",
   "id": "fd008bcf",
   "metadata": {},
   "source": [
    "\n",
    "---\n",
    "\n",
    "### ✅ 2. Accessing Elements\n",
    "\n",
    "Use **indexing** (starts from 0):\n"
   ]
  },
  {
   "cell_type": "code",
   "execution_count": null,
   "id": "e1e06773",
   "metadata": {},
   "outputs": [
    {
     "name": "stdout",
     "output_type": "stream",
     "text": [
      "apple\n",
      "cherry\n"
     ]
    }
   ],
   "source": [
    "fruits = [\"apple\", \"banana\", \"cherry\"]\n",
    "\n",
    "print(fruits[0])   # apple\n",
    "print(fruits[-1])  # cherry (last element)"
   ]
  },
  {
   "cell_type": "markdown",
   "id": "b0c20b2c",
   "metadata": {},
   "source": [
    "---\n",
    "\n",
    "### ✅ 3. Updating Elements\n",
    "\n",
    "Lists are mutable, so we can change values:"
   ]
  },
  {
   "cell_type": "code",
   "execution_count": null,
   "id": "2a4ed022",
   "metadata": {},
   "outputs": [
    {
     "name": "stdout",
     "output_type": "stream",
     "text": [
      "['apple', 'orange', 'cherry']\n"
     ]
    }
   ],
   "source": [
    "fruits[1] = \"orange\"\n",
    "print(fruits)  # ['apple', 'orange', 'cherry']"
   ]
  },
  {
   "cell_type": "markdown",
   "id": "a7d2421b",
   "metadata": {},
   "source": [
    "\n",
    "---\n",
    "\n",
    "### ✅ 4. List Methods (Most Common)\n",
    "\n",
    "| Method                | Description                              |\n",
    "|------------------------|------------------------------------------|\n",
    "| `append(item)`         | Adds item to the end                     |\n",
    "| `insert(index, item)`  | Inserts at specified index               |\n",
    "| `remove(item)`         | Removes first occurrence of item         |\n",
    "| `pop(index)`           | Removes and returns item at index        |\n",
    "| `index(item)`          | Returns first index of item              |\n",
    "| `count(item)`          | Counts occurrences of item               |\n",
    "| `sort()`               | Sorts the list in ascending order        |\n",
    "| `reverse()`            | Reverses the list                        |\n",
    "| `clear()`              | Empties the list                         |\n",
    "| `copy()`               | Returns a copy of the list               |\n",
    "\n",
    "### ✅ Examples:"
   ]
  },
  {
   "cell_type": "code",
   "execution_count": null,
   "id": "a52f67bc",
   "metadata": {},
   "outputs": [
    {
     "name": "stdout",
     "output_type": "stream",
     "text": [
      "['kiwi', 'cherry', 'apple']\n"
     ]
    }
   ],
   "source": [
    "fruits = [\"banana\", \"apple\", \"cherry\"]\n",
    "\n",
    "fruits.append(\"orange\")       # Add at end\n",
    "fruits.insert(1, \"kiwi\")      # Insert at index 1\n",
    "fruits.remove(\"banana\")       # Remove item\n",
    "popped = fruits.pop()         # Pop last item\n",
    "fruits.sort()                 # Sort alphabetically\n",
    "fruits.reverse()              # Reverse list\n",
    "\n",
    "print(fruits)"
   ]
  },
  {
   "cell_type": "markdown",
   "id": "c9bf4309",
   "metadata": {},
   "source": [
    "---\n",
    "\n",
    "### ✅ 5. List Slicing"
   ]
  },
  {
   "cell_type": "code",
   "execution_count": null,
   "id": "38312a62",
   "metadata": {},
   "outputs": [
    {
     "name": "stdout",
     "output_type": "stream",
     "text": [
      "[2, 3, 4]\n",
      "[1, 2, 3]\n",
      "[1, 3, 5]\n"
     ]
    }
   ],
   "source": [
    "numbers = [1, 2, 3, 4, 5]\n",
    "print(numbers[1:4])    # [2, 3, 4]\n",
    "print(numbers[:3])     # [1, 2, 3]\n",
    "print(numbers[::2])    # [1, 3, 5]"
   ]
  },
  {
   "cell_type": "markdown",
   "id": "d3de3515",
   "metadata": {},
   "source": [
    "\n",
    "---\n",
    "\n",
    "### ✅ 6. Looping Through List"
   ]
  },
  {
   "cell_type": "code",
   "execution_count": null,
   "id": "5ae7815f",
   "metadata": {},
   "outputs": [
    {
     "name": "stdout",
     "output_type": "stream",
     "text": [
      "a\n",
      "b\n",
      "c\n",
      "Index 0: a\n",
      "Index 1: b\n",
      "Index 2: c\n"
     ]
    }
   ],
   "source": [
    "for item in [\"a\", \"b\", \"c\"]:\n",
    "    print(item)\n",
    "\n",
    "# With index using enumerate()\n",
    "for i, item in enumerate([\"a\", \"b\", \"c\"]):\n",
    "    print(f\"Index {i}: {item}\")"
   ]
  },
  {
   "cell_type": "markdown",
   "id": "fd52519b",
   "metadata": {},
   "source": [
    "\n",
    "---\n",
    "\n",
    "### ✅ 7. List Comprehensions\n",
    "\n",
    "**Short-hand** to create new lists from existing sequences."
   ]
  },
  {
   "cell_type": "code",
   "execution_count": null,
   "id": "02aa9a58",
   "metadata": {},
   "outputs": [
    {
     "name": "stdout",
     "output_type": "stream",
     "text": [
      "[1, 4, 9, 16, 25]\n",
      "[0, 2, 4, 6, 8]\n",
      "['hello', 'world']\n",
      "['HELLO', 'WORLD']\n"
     ]
    }
   ],
   "source": [
    "# Square of numbers from 1 to 5\n",
    "squares = [x**2 for x in range(1, 6)]\n",
    "print(squares)  # [1, 4, 9, 16, 25]\n",
    "\n",
    "# Get only even numbers\n",
    "evens = [x for x in range(10) if x % 2 == 0]\n",
    "print(evens)  # [0, 2, 4, 6, 8]\n",
    "\n",
    "# Uppercase all items\n",
    "words = [\"hello\", \"world\"]\n",
    "upper_words = [w.upper() for w in words]\n",
    "print(words)\n",
    "print(upper_words)"
   ]
  },
  {
   "cell_type": "markdown",
   "id": "5a93a459",
   "metadata": {},
   "source": [
    "\n",
    "---\n",
    "\n",
    "## 🔹 Tuples in Python\n",
    "\n",
    "### ✅ What is a Tuple?\n",
    "\n",
    "A **tuple** is similar to a list, but it is **immutable**, meaning **you cannot modify, add or remove items** once the tuple is created.\n",
    "\n",
    "---\n",
    "\n",
    "### ✅ 1. Creating a Tuple"
   ]
  },
  {
   "cell_type": "code",
   "execution_count": null,
   "id": "1f63c641",
   "metadata": {},
   "outputs": [],
   "source": [
    "# Empty tuple\n",
    "t1 = ()\n",
    "\n",
    "# Tuple of integers\n",
    "t2 = (1, 2, 3)\n",
    "\n",
    "# Mixed data types\n",
    "t3 = (1, \"apple\", 3.14, True)\n",
    "\n",
    "# Tuple without parentheses (optional)\n",
    "t4 = 1, 2, 3"
   ]
  },
  {
   "cell_type": "markdown",
   "id": "687dbed6",
   "metadata": {},
   "source": [
    "\n",
    "---\n",
    "\n",
    "### ✅ 2. Accessing Elements\n"
   ]
  },
  {
   "cell_type": "code",
   "execution_count": null,
   "id": "75735489",
   "metadata": {},
   "outputs": [
    {
     "name": "stdout",
     "output_type": "stream",
     "text": [
      "apple\n",
      "cherry\n"
     ]
    }
   ],
   "source": [
    "fruits = (\"apple\", \"banana\", \"cherry\")\n",
    "\n",
    "print(fruits[0])    # apple\n",
    "print(fruits[-1])   # cherry"
   ]
  },
  {
   "cell_type": "markdown",
   "id": "3c583832",
   "metadata": {},
   "source": [
    "\n",
    "---\n",
    "\n",
    "### ✅ 3. Tuple Methods\n"
   ]
  },
  {
   "cell_type": "code",
   "execution_count": 2,
   "id": "589ea9d3",
   "metadata": {},
   "outputs": [
    {
     "name": "stdout",
     "output_type": "stream",
     "text": [
      "3\n",
      "2\n",
      "2\n"
     ]
    }
   ],
   "source": [
    "t = (1, 2, 3, 2, 1)\n",
    "print(t[2])\n",
    "print(t.count(2))   # Count of 2 = 2\n",
    "print(t.index(3))   # Index of 3 = 2"
   ]
  },
  {
   "cell_type": "markdown",
   "id": "2883a0af",
   "metadata": {},
   "source": [
    "\n",
    "---\n",
    "\n",
    "### ✅ 4. Tuple Unpacking\n"
   ]
  },
  {
   "cell_type": "code",
   "execution_count": 3,
   "id": "be0114d0",
   "metadata": {},
   "outputs": [
    {
     "name": "stdout",
     "output_type": "stream",
     "text": [
      "10 20 30\n",
      "10\n",
      "20\n",
      "30\n"
     ]
    }
   ],
   "source": [
    "t = (10, 20, 30)\n",
    "\n",
    "a, b, c = t\n",
    "\n",
    "print(a, b, c)  # 10 20 30\n",
    "print(a)\n",
    "print(b)\n",
    "print(c)"
   ]
  },
  {
   "cell_type": "markdown",
   "id": "81c20975",
   "metadata": {},
   "source": [
    "\n",
    "---\n",
    "\n",
    "### ✅ When to Use Tuples?\n",
    "\n",
    "- When data should **not be changed** (e.g., days of the week, coordinates).\n",
    "- Tuples are **faster** than lists and can be used as **dictionary keys**.\n"
   ]
  },
  {
   "cell_type": "markdown",
   "id": "c361862d",
   "metadata": {},
   "source": [
    "\n",
    "---\n",
    "\n",
    "## 🔹 Sets in Python\n",
    "\n",
    "### ✅ What is a Set?\n",
    "\n",
    "A **set** is an **unordered**, **unindexed** collection of **unique elements**. It is **mutable**, but only stores **non-duplicate values**.\n",
    "\n",
    "---\n",
    "\n",
    "### ✅ 1. Creating a Set\n"
   ]
  },
  {
   "cell_type": "code",
   "execution_count": null,
   "id": "215ab42e",
   "metadata": {},
   "outputs": [],
   "source": [
    "# With curly braces\n",
    "s1 = {1, 2, 3}\n",
    "\n",
    "# From list (duplicates removed)\n",
    "s2 = set([1, 2, 2, 3, 4, 4])   # {1, 2, 3, 4}\n",
    "\n",
    "# Empty set\n",
    "s3 = set()    # NOT s3 = {} → that creates a dict!"
   ]
  },
  {
   "cell_type": "markdown",
   "id": "e29c9dc1",
   "metadata": {},
   "source": [
    "\n",
    "---\n",
    "\n",
    "### ✅ 2. Adding & Removing Elements\n"
   ]
  },
  {
   "cell_type": "code",
   "execution_count": 4,
   "id": "f3f480d5",
   "metadata": {},
   "outputs": [],
   "source": [
    "s = {1, 2, 3}\n",
    "\n",
    "s.add(4)         # Add single item\n",
    "s.update([5, 6]) # Add multiple items\n",
    "s.remove(2)      # Remove item (error if not present)\n",
    "s.discard(10)    # No error if item missing"
   ]
  },
  {
   "cell_type": "markdown",
   "id": "51f0d251",
   "metadata": {},
   "source": [
    "\n",
    "---\n",
    "\n",
    "### ✅ 3. Set Operations\n",
    "\n",
    "| Operation        | Symbol | Method          | Example Result        |\n",
    "|------------------|--------|------------------|------------------------|\n",
    "| Union            | `\\`    | `set1.union()`   | All unique items       |\n",
    "| Intersection     | `&`    | `set1.intersection()` | Common items        |\n",
    "| Difference       | `-`    | `set1.difference()`   | Items in set1 not in set2 |\n",
    "| Symmetric Diff.  | `^`    | `set1.symmetric_difference()` | Not common |\n",
    "\n",
    "---\n",
    "\n",
    "### ✅ Example:\n"
   ]
  },
  {
   "cell_type": "code",
   "execution_count": null,
   "id": "a77d7ec0",
   "metadata": {},
   "outputs": [
    {
     "name": "stdout",
     "output_type": "stream",
     "text": [
      "{1, 2, 3, 4, 5, 6}\n",
      "{3, 4}\n",
      "{1, 2}\n",
      "{1, 2, 5, 6}\n"
     ]
    }
   ],
   "source": [
    "a = {1, 2, 3, 4}\n",
    "b = {3, 4, 5, 6}\n",
    "\n",
    "print(a | b)   # Union: {1, 2, 3, 4, 5, 6}\n",
    "print(a & b)   # Intersection: {3, 4}\n",
    "print(a - b)   # Difference: {1, 2}\n",
    "print(a ^ b)   # Symmetric Difference: {1, 2, 5, 6}"
   ]
  },
  {
   "cell_type": "markdown",
   "id": "e07865e4",
   "metadata": {},
   "source": [
    "\n",
    "---\n",
    "\n",
    "### ✅ Looping Over a Set\n"
   ]
  },
  {
   "cell_type": "code",
   "execution_count": null,
   "id": "87e074d1",
   "metadata": {},
   "outputs": [
    {
     "name": "stdout",
     "output_type": "stream",
     "text": [
      "banana\n",
      "cherry\n",
      "apple\n"
     ]
    }
   ],
   "source": [
    "for item in {\"apple\", \"banana\", \"cherry\"}:\n",
    "    print(item)"
   ]
  },
  {
   "cell_type": "markdown",
   "id": "97e1909c",
   "metadata": {},
   "source": [
    "\n",
    "## ✅ 4. Data Structures in Python (Final Part)\n",
    "\n",
    "---\n",
    "\n",
    "## 🔹 Dictionaries in Python\n",
    "\n",
    "### ✅ What is a Dictionary?\n",
    "\n",
    "A **dictionary** is an **unordered**, **mutable**, and **indexed** collection of **key-value pairs**.\n",
    "\n",
    "- Keys must be **unique** and **immutable** (like strings, numbers, tuples).\n",
    "- Values can be of **any data type**.\n",
    "\n",
    "---\n",
    "\n",
    "### ✅ 1. Creating a Dictionary\n"
   ]
  },
  {
   "cell_type": "code",
   "execution_count": 4,
   "id": "8687aafb",
   "metadata": {},
   "outputs": [],
   "source": [
    "# Empty dictionary\n",
    "d1 = {}\n",
    "\n",
    "# Using curly braces\n",
    "student = {\"name\": \"Alice\", \"age\": 20, \"marks\": 88.5}\n",
    "\n",
    "# Using dict() function\n",
    "info = dict(name=\"Bob\", age=25)"
   ]
  },
  {
   "cell_type": "markdown",
   "id": "a411f222",
   "metadata": {},
   "source": [
    "\n",
    "---\n",
    "\n",
    "### ✅ 2. Accessing & Modifying Values\n"
   ]
  },
  {
   "cell_type": "code",
   "execution_count": null,
   "id": "e7c515f2",
   "metadata": {},
   "outputs": [
    {
     "name": "stdout",
     "output_type": "stream",
     "text": [
      "Alice\n",
      "20\n"
     ]
    }
   ],
   "source": [
    "# Accessing\n",
    "print(student[\"name\"])  # Alice\n",
    "print(student.get(\"age\"))  # 20\n",
    "\n",
    "# Modifying\n",
    "student[\"age\"] = 21\n",
    "student[\"city\"] = \"Delhi\"  # Adding new key-value pair"
   ]
  },
  {
   "cell_type": "markdown",
   "id": "5142b318",
   "metadata": {},
   "source": [
    "\n",
    "---\n",
    "\n",
    "### ✅ 3. Dictionary Methods\n",
    "\n",
    "| Method           | Description                        |\n",
    "|------------------|------------------------------------|\n",
    "| `keys()`         | Returns list of keys               |\n",
    "| `values()`       | Returns list of values             |\n",
    "| `items()`        | Returns list of (key, value) pairs |\n",
    "| `get(key)`       | Gets value for key (None if absent)|\n",
    "| `update()`       | Updates dictionary with new items  |\n",
    "| `pop(key)`       | Removes item with given key        |\n",
    "| `clear()`        | Removes all items from dictionary  |\n"
   ]
  },
  {
   "cell_type": "code",
   "execution_count": null,
   "id": "7785c81a",
   "metadata": {},
   "outputs": [
    {
     "name": "stdout",
     "output_type": "stream",
     "text": [
      "dict_keys(['name', 'age', 'city'])\n",
      "dict_values(['Alice', 21, 'Delhi'])\n",
      "dict_items([('name', 'Alice'), ('age', 21), ('city', 'Delhi')])\n"
     ]
    },
    {
     "data": {
      "text/plain": [
       "'Delhi'"
      ]
     },
     "metadata": {},
     "output_type": "display_data"
    }
   ],
   "source": [
    "student = {\"name\": \"Alice\", \"age\": 21, \"city\": \"Delhi\"}\n",
    "\n",
    "print(student.keys())      # dict_keys(['name', 'age', 'city'])\n",
    "print(student.values())    # dict_values(['Alice', 21, 'Delhi'])\n",
    "print(student.items())     # dict_items([('name', 'Alice'), ('age', 21), ('city', 'Delhi')])\n",
    "\n",
    "student.update({\"age\": 22})\n",
    "student.pop(\"city\")"
   ]
  },
  {
   "cell_type": "markdown",
   "id": "53ea224f",
   "metadata": {},
   "source": [
    "---\n",
    "\n",
    "### ✅ 4. Looping through a Dictionary\n"
   ]
  },
  {
   "cell_type": "code",
   "execution_count": null,
   "id": "91aadadb",
   "metadata": {},
   "outputs": [
    {
     "name": "stdout",
     "output_type": "stream",
     "text": [
      "name => Alice\n",
      "age => 22\n",
      "name: Alice\n",
      "age: 22\n"
     ]
    }
   ],
   "source": [
    "for key in student:\n",
    "    print(key, \"=>\", student[key])\n",
    "\n",
    "# OR\n",
    "\n",
    "for key, value in student.items():\n",
    "    print(f\"{key}: {value}\")"
   ]
  },
  {
   "cell_type": "markdown",
   "id": "0adc3332",
   "metadata": {},
   "source": [
    "\n",
    "---\n",
    "\n",
    "## 🔹 Built-in Functions for Data Structures\n",
    "\n",
    "These are **universal functions** that work on **lists, tuples, sets, dictionaries** (where applicable).\n",
    "\n",
    "---\n",
    "\n",
    "### ✅ 1. `len()`\n",
    "\n",
    "Returns the number of items."
   ]
  },
  {
   "cell_type": "code",
   "execution_count": null,
   "id": "cdb8af76",
   "metadata": {},
   "outputs": [
    {
     "data": {
      "text/plain": [
       "2"
      ]
     },
     "metadata": {},
     "output_type": "display_data"
    }
   ],
   "source": [
    "len([1, 2, 3])       # 3\n",
    "len({\"a\": 1, \"b\": 2})  # 2"
   ]
  },
  {
   "cell_type": "markdown",
   "id": "6b7a5bec",
   "metadata": {},
   "source": [
    "\n",
    "---\n",
    "\n",
    "### ✅ 2. `min()`, `max()`\n",
    "\n",
    "Return the minimum / maximum value.\n"
   ]
  },
  {
   "cell_type": "code",
   "execution_count": null,
   "id": "1f2bd42e",
   "metadata": {},
   "outputs": [
    {
     "data": {
      "text/plain": [
       "50"
      ]
     },
     "metadata": {},
     "output_type": "display_data"
    }
   ],
   "source": [
    "min([3, 5, 1, 2])    # 1\n",
    "max((10, 50, 30))    # 50"
   ]
  },
  {
   "cell_type": "markdown",
   "id": "301a9f9a",
   "metadata": {},
   "source": [
    "\n",
    "---\n",
    "\n",
    "### ✅ 3. `sum()`\n",
    "\n",
    "Returns the total sum of all numeric elements.\n"
   ]
  },
  {
   "cell_type": "code",
   "execution_count": null,
   "id": "39cd2b57",
   "metadata": {},
   "outputs": [
    {
     "data": {
      "text/plain": [
       "60"
      ]
     },
     "metadata": {},
     "output_type": "display_data"
    }
   ],
   "source": [
    "sum([1, 2, 3, 4])    # 10\n",
    "sum((10, 20, 30))    # 60"
   ]
  },
  {
   "cell_type": "markdown",
   "id": "a8c71f8e",
   "metadata": {},
   "source": [
    "\n",
    "---\n",
    "\n",
    "### ✅ 4. `sorted()`\n",
    "\n",
    "Returns a sorted version (doesn’t change original).\n"
   ]
  },
  {
   "cell_type": "code",
   "execution_count": null,
   "id": "7e027735",
   "metadata": {},
   "outputs": [
    {
     "data": {
      "text/plain": [
       "[1, 2, 3, 4]"
      ]
     },
     "metadata": {},
     "output_type": "display_data"
    }
   ],
   "source": [
    "sorted([4, 1, 3, 2])   # [1, 2, 3, 4]"
   ]
  },
  {
   "cell_type": "markdown",
   "id": "94cdebf2",
   "metadata": {},
   "source": [
    "\n",
    "---\n",
    "\n",
    "### ✅ 5. `type()`\n",
    "\n",
    "Returns the type of data structure.\n"
   ]
  },
  {
   "cell_type": "code",
   "execution_count": null,
   "id": "2782f618",
   "metadata": {},
   "outputs": [
    {
     "data": {
      "text/plain": [
       "dict"
      ]
     },
     "metadata": {},
     "output_type": "display_data"
    }
   ],
   "source": [
    "type([1, 2, 3])    # <class 'list'>\n",
    "type({\"a\": 1})     # <class 'dict'>"
   ]
  },
  {
   "cell_type": "markdown",
   "id": "74580124",
   "metadata": {},
   "source": [
    "\n",
    "---\n",
    "\n",
    "\n",
    "### 🧠 Dictionary from 2 Lists\n"
   ]
  },
  {
   "cell_type": "code",
   "execution_count": null,
   "id": "6565798d",
   "metadata": {},
   "outputs": [
    {
     "name": "stdout",
     "output_type": "stream",
     "text": [
      "{'name': 'Alice', 'age': 22}\n"
     ]
    }
   ],
   "source": [
    "keys = ['name', 'age']\n",
    "values = ['Alice', 22]\n",
    "\n",
    "d = dict(zip(keys, values))\n",
    "print(d)  # {'name': 'Alice', 'age': 22}"
   ]
  }
 ],
 "metadata": {
  "kernelspec": {
   "display_name": "Python 3",
   "language": "python",
   "name": "python3"
  },
  "language_info": {
   "codemirror_mode": {
    "name": "ipython",
    "version": 3
   },
   "file_extension": ".py",
   "mimetype": "text/x-python",
   "name": "python",
   "nbconvert_exporter": "python",
   "pygments_lexer": "ipython3",
   "version": "3.11.0"
  }
 },
 "nbformat": 4,
 "nbformat_minor": 5
}
