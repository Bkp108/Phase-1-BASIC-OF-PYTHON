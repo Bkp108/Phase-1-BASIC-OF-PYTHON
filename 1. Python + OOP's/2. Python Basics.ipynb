{
 "cells": [
  {
   "cell_type": "markdown",
   "id": "cfbe4140",
   "metadata": {},
   "source": [
    "## ✅ 2. Python Basics\n",
    "\n",
    "- Variables and Data Types\n",
    "- Type Casting\n",
    "- Input and Output\n",
    "- Operators (Arithmetic, Logical, Comparison, Assignment)\n",
    "- Comments in Python\n",
    "- Indentation Rules\n",
    "\n",
    "---"
   ]
  },
  {
   "cell_type": "markdown",
   "id": "b3f2ce84",
   "metadata": {},
   "source": [
    "# 🐍 Python Basics - Getting Started\n",
    "\n",
    "---\n",
    "\n",
    "## ✅ Running Your First Python Program\n",
    "\n",
    "You can run Python code using:\n",
    "- Jupyter Notebook (recommended for ML & Data Science)\n",
    "- VS Code / PyCharm\n",
    "- Online editors (like Google Colab, Replit)\n",
    "- Python terminal\n",
    "\n",
    "### Example: Your First Python Program"
   ]
  },
  {
   "cell_type": "code",
   "execution_count": null,
   "id": "a8da23f2",
   "metadata": {},
   "outputs": [
    {
     "name": "stdout",
     "output_type": "stream",
     "text": [
      "Hello, World!\n"
     ]
    }
   ],
   "source": [
    "# This is a simple Python program\n",
    "print(\"Hello, World!\")"
   ]
  },
  {
   "cell_type": "markdown",
   "id": "2378ecf3",
   "metadata": {},
   "source": [
    "## ✅ Variables and Data Types\n",
    "\n",
    "### What is a Variable?\n",
    "- A variable is used to store data.\n",
    "- No need to declare the type (Python is dynamically typed).\n",
    "\n",
    "### Syntax:\n",
    "\n",
    "```python\n",
    "variable_name = value\n",
    "```\n",
    "\n",
    "### Common Data Types:\n",
    "| Type         | Example                  |\n",
    "|--------------|--------------------------|\n",
    "| Integer      | `x = 10`                 |\n",
    "| Float        | `pi = 3.14`              |\n",
    "| String       | `name = \"Brijesh\"`       |\n",
    "| Boolean      | `flag = True`            |\n",
    "| NoneType     | `data = None`            |\n",
    "| Complex      | `z = 3 + 4j`             |\n",
    "\n"
   ]
  },
  {
   "cell_type": "code",
   "execution_count": null,
   "id": "3e2cb444",
   "metadata": {},
   "outputs": [
    {
     "name": "stdout",
     "output_type": "stream",
     "text": [
      "<class 'int'>\n",
      "<class 'float'>\n",
      "<class 'str'>\n"
     ]
    }
   ],
   "source": [
    "age = 21              # int\n",
    "price = 99.99         # float\n",
    "name = \"Brijesh\"      # str\n",
    "is_valid = True       # bool\n",
    "nothing = None        # NoneType\n",
    "num = 3 + 4j          # complex\n",
    "\n",
    "print(type(age))      # <class 'int'>\n",
    "print(type(price))    # <class 'float'>\n",
    "print(type(name))     # <class 'str'>"
   ]
  },
  {
   "cell_type": "markdown",
   "id": "3194ca41",
   "metadata": {},
   "source": [
    "## ✅ Type Casting (Type Conversion)\n",
    "\n",
    "Sometimes you need to convert from one type to another."
   ]
  },
  {
   "cell_type": "code",
   "execution_count": null,
   "id": "1cb54f48",
   "metadata": {},
   "outputs": [
    {
     "name": "stdout",
     "output_type": "stream",
     "text": [
      "<class 'float'> 5.0\n",
      "<class 'int'> 9\n",
      "<class 'str'> 100\n",
      "<class 'int'> 123\n"
     ]
    }
   ],
   "source": [
    "# int to float\n",
    "a = 5\n",
    "b = float(a)         # 5.0\n",
    "\n",
    "# float to int\n",
    "c = 9.81\n",
    "d = int(c)           # 9\n",
    "\n",
    "# int to string\n",
    "e = 100\n",
    "f = str(e)           # \"100\"\n",
    "\n",
    "# string to int\n",
    "g = \"123\"\n",
    "h = int(g)           # 123\n",
    "\n",
    "# string to float\n",
    "i = \"12.34\"\n",
    "j = float(i)         # 12.34\n",
    "\n",
    "print(type(b), b)\n",
    "print(type(d), d)\n",
    "print(type(f), f)\n",
    "print(type(h), h)"
   ]
  },
  {
   "cell_type": "markdown",
   "id": "586f5515",
   "metadata": {},
   "source": [
    "⛔ **Note**: You can't convert non-numeric strings to int/float.\n",
    "\n",
    "```python\n",
    "# This will raise an error\n",
    "int(\"abc\")  # ValueError\n",
    "```\n"
   ]
  },
  {
   "cell_type": "markdown",
   "id": "97834d44",
   "metadata": {},
   "source": [
    "\n",
    "## ✅ Input and Output\n",
    "\n",
    "### `input()` function — for user input (Always returns string)\n",
    "\n"
   ]
  },
  {
   "cell_type": "code",
   "execution_count": null,
   "id": "e4a9e2bb",
   "metadata": {},
   "outputs": [
    {
     "name": "stdout",
     "output_type": "stream",
     "text": [
      "Hello, Brijesh\n"
     ]
    }
   ],
   "source": [
    "name = input(\"Enter your name: \")\n",
    "print(\"Hello,\", name)"
   ]
  },
  {
   "cell_type": "markdown",
   "id": "becd5eb9",
   "metadata": {},
   "source": [
    "### Convert input to other types:"
   ]
  },
  {
   "cell_type": "code",
   "execution_count": null,
   "id": "63015bfa",
   "metadata": {},
   "outputs": [
    {
     "name": "stdout",
     "output_type": "stream",
     "text": [
      "Name: Brijesh | Age: 20\n",
      "Hello Brijesh, you are 20 years old and 5.11m tall.\n"
     ]
    }
   ],
   "source": [
    "age = int(input(\"Enter your age: \"))  # input is str, convert to int\n",
    "height = float(input(\"Enter your height in meters: \"))\n",
    "\n",
    "# Multiple values\n",
    "print(\"Name:\", name, \"| Age:\", age)\n",
    "\n",
    "# Using f-string (recommended)\n",
    "print(f\"Hello {name}, you are {age} years old and {height} tall.\")"
   ]
  },
  {
   "cell_type": "markdown",
   "id": "bc9ee9c4",
   "metadata": {},
   "source": [
    "\n",
    "### 🎯 Summary:\n",
    "\n",
    "| Concept        | Key Point                                 |\n",
    "|----------------|--------------------------------------------|\n",
    "| Variables      | Store data, no type declaration needed in Python     |\n",
    "| Data Types     | int, float, str, bool, complex, None       |\n",
    "| Type Casting   | Use `int()`, `float()`, `str()` etc.       |\n",
    "| Input          | Use `input()`, convert using casting       |\n",
    "| Output         | Use `print()`, f-strings for formatting    |"
   ]
  },
  {
   "cell_type": "markdown",
   "id": "bb6507ed",
   "metadata": {},
   "source": [
    "## 🔹 Operators in Python\n",
    "\n",
    "Operators are special symbols used to perform operations on variables and values.\n",
    "\n",
    "---\n",
    "\n",
    "### ✅ 1. Arithmetic Operators\n",
    "\n",
    "Used to perform basic math operations.\n",
    "\n",
    "| Operator | Description        | Example        |\n",
    "|----------|--------------------|----------------|\n",
    "| `+`      | Addition           | `10 + 5 = 15`  |\n",
    "| `-`      | Subtraction        | `10 - 5 = 5`   |\n",
    "| `*`      | Multiplication     | `10 * 5 = 50`  |\n",
    "| `/`      | Division           | `10 / 5 = 2.0` |\n",
    "| `//`     | Floor Division     | `10 // 3 = 3`  |\n",
    "| `%`      | Modulus (remainder)| `10 % 3 = 1`   |\n",
    "| `**`     | Exponentiation     | `2 ** 3 = 8`   |\n"
   ]
  },
  {
   "cell_type": "code",
   "execution_count": null,
   "id": "a42a352b",
   "metadata": {},
   "outputs": [
    {
     "name": "stdout",
     "output_type": "stream",
     "text": [
      "Addition: 13\n",
      "Subtraction: 7\n",
      "Multiplication: 30\n",
      "Division: 3.3333333333333335\n",
      "Floor Division: 3\n",
      "Modulus: 1\n",
      "Exponent: 1000\n"
     ]
    }
   ],
   "source": [
    "a = 10\n",
    "b = 3\n",
    "\n",
    "print(\"Addition:\", a + b)\n",
    "print(\"Subtraction:\", a - b)\n",
    "print(\"Multiplication:\", a * b)\n",
    "print(\"Division:\", a / b)\n",
    "print(\"Floor Division:\", a // b)\n",
    "print(\"Modulus:\", a % b)\n",
    "print(\"Exponent:\", a ** b)"
   ]
  },
  {
   "cell_type": "markdown",
   "id": "19838ecd",
   "metadata": {},
   "source": [
    "\n",
    "---\n",
    "\n",
    "### ✅ 2. Comparison Operators\n",
    "\n",
    "Used to compare values. Returns `True` or `False`.\n",
    "\n",
    "| Operator | Description         | Example      |\n",
    "|----------|---------------------|--------------|\n",
    "| `==`     | Equal to            | `a == b`     |\n",
    "| `!=`     | Not equal to        | `a != b`     |\n",
    "| `>`      | Greater than        | `a > b`      |\n",
    "| `<`      | Less than           | `a < b`      |\n",
    "| `>=`     | Greater or equal    | `a >= b`     |\n",
    "| `<=`     | Less or equal       | `a <= b`     |\n"
   ]
  },
  {
   "cell_type": "code",
   "execution_count": null,
   "id": "1d2466a2",
   "metadata": {},
   "outputs": [
    {
     "name": "stdout",
     "output_type": "stream",
     "text": [
      "False\n",
      "True\n",
      "False\n",
      "True\n"
     ]
    }
   ],
   "source": [
    "x = 10\n",
    "y = 20\n",
    "\n",
    "print(x == y)   # False\n",
    "print(x != y)   # True\n",
    "print(x > y)    # False\n",
    "print(x < y)    # True\n"
   ]
  },
  {
   "cell_type": "markdown",
   "id": "8517a08e",
   "metadata": {},
   "source": [
    "---\n",
    "\n",
    "### ✅ 3. Logical Operators\n",
    "\n",
    "Used to combine conditions.\n",
    "\n",
    "| Operator | Description      | Example                      |\n",
    "|----------|------------------|------------------------------|\n",
    "| `and`    | True if both      | `a > 5 and b < 10`           |\n",
    "| `or`     | True if any one   | `a > 5 or b < 2`             |\n",
    "| `not`    | Reverse the result| `not(a > 5)`                 |\n"
   ]
  },
  {
   "cell_type": "code",
   "execution_count": null,
   "id": "d241e14f",
   "metadata": {},
   "outputs": [
    {
     "name": "stdout",
     "output_type": "stream",
     "text": [
      "True\n",
      "True\n",
      "True\n"
     ]
    }
   ],
   "source": [
    "a = 10\n",
    "b = 5\n",
    "\n",
    "print(a > 5 and b < 10)    # True\n",
    "print(a < 5 or b == 5)     # True\n",
    "print(not(a == b))         # True"
   ]
  },
  {
   "cell_type": "markdown",
   "id": "d73cdeb0",
   "metadata": {},
   "source": [
    "---\n",
    "\n",
    "### ✅ 4. Assignment Operators\n",
    "\n",
    "Used to assign values.\n",
    "\n",
    "| Operator | Example      | Same As       |\n",
    "|----------|--------------|---------------|\n",
    "| `=`      | `x = 5`      | `x = 5`       |\n",
    "| `+=`     | `x += 3`     | `x = x + 3`   |\n",
    "| `-=`     | `x -= 2`     | `x = x - 2`   |\n",
    "| `*=`     | `x *= 4`     | `x = x * 4`   |\n",
    "| `/=`     | `x /= 2`     | `x = x / 2`   |\n",
    "| `//=`    | `x //= 2`    | `x = x // 2`  |\n",
    "| `%=`     | `x %= 3`     | `x = x % 3`   |\n",
    "| `**=`    | `x **= 2`    | `x = x ** 2`  |\n"
   ]
  },
  {
   "cell_type": "code",
   "execution_count": null,
   "id": "b26d8b51",
   "metadata": {},
   "outputs": [
    {
     "name": "stdout",
     "output_type": "stream",
     "text": [
      "15\n"
     ]
    }
   ],
   "source": [
    "x = 10\n",
    "x += 5  # x = x + 5\n",
    "print(x)  # 15\n"
   ]
  },
  {
   "cell_type": "markdown",
   "id": "3fb17831",
   "metadata": {},
   "source": [
    "---\n",
    "\n",
    "## 🔹 Comments in Python\n",
    "\n",
    "Comments are used to make the code more readable.\n",
    "\n",
    "- **Single-line comment** → starts with `#`\n",
    "- **Multi-line comment** → use triple quotes `'''` or `\"\"\"`\n"
   ]
  },
  {
   "cell_type": "code",
   "execution_count": null,
   "id": "6bf56e22",
   "metadata": {},
   "outputs": [
    {
     "name": "stdout",
     "output_type": "stream",
     "text": [
      "Hello, Comments!\n"
     ]
    }
   ],
   "source": [
    "# This is a single-line comment\n",
    "\n",
    "'''\n",
    "This is a \n",
    "multi-line comment\n",
    "'''\n",
    "\n",
    "\"\"\"\n",
    "Another multi-line comment\n",
    "\"\"\"\n",
    "print(\"Hello, Comments!\")\n"
   ]
  },
  {
   "cell_type": "markdown",
   "id": "1c839fef",
   "metadata": {},
   "source": [
    "---\n",
    "\n",
    "## 🔹 Indentation Rules in Python\n",
    "\n",
    "- Python uses **indentation** (whitespace) to define code blocks (like `if`, `for`, `functions`).\n",
    "- **No curly braces `{}` used** like in C/Java.\n",
    "- Typically, 4 spaces are used for indentation.\n"
   ]
  },
  {
   "cell_type": "code",
   "execution_count": null,
   "id": "f383ee6a",
   "metadata": {},
   "outputs": [
    {
     "name": "stdout",
     "output_type": "stream",
     "text": [
      "This is indented correctly\n",
      "Still inside if block\n",
      "Outside the if block\n"
     ]
    }
   ],
   "source": [
    "if True:\n",
    "    print(\"This is indented correctly\")\n",
    "    print(\"Still inside if block\")\n",
    "\n",
    "print(\"Outside the if block\")\n"
   ]
  },
  {
   "cell_type": "markdown",
   "id": "fb294b14",
   "metadata": {},
   "source": [
    "\n",
    "⛔ Wrong indentation will give `IndentationError`:\n",
    "\n",
    "```python\n",
    "if True:\n",
    "print(\"Wrong indent\")  # ❌ This will raise an error\n",
    "```\n",
    "\n",
    "---\n",
    "\n",
    "\n",
    "\n",
    "### ✅ Summary Table:\n",
    "\n",
    "| Topic       | Key Point |\n",
    "|-------------|-----------|\n",
    "| Operators   | Perform actions like math, logic, compare |\n",
    "| Comments    | Used to explain code, ignored by interpreter |\n",
    "| Indentation | Used to define code blocks in Python |\n"
   ]
  }
 ],
 "metadata": {
  "language_info": {
   "name": "python"
  }
 },
 "nbformat": 4,
 "nbformat_minor": 5
}
