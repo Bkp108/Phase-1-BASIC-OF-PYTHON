{
 "cells": [
  {
   "cell_type": "markdown",
   "id": "9ff50b5b",
   "metadata": {},
   "source": [
    "## ✅ 1. Introduction to Python\n",
    "\n",
    "- What is Python?\n",
    "- Why use Python for Data Science & ML?\n",
    "- Installing Python (via Anaconda)\n",
    "- Installing Jupyter Notebook\n",
    "- Running your first Python program\n",
    "\n",
    "---"
   ]
  },
  {
   "cell_type": "markdown",
   "id": "e93fdc5d",
   "metadata": {},
   "source": [
    "# 🐍 What is Python?\n",
    "\n",
    "Python is a **high-level, interpreted programming language** known for its **simplicity**, **readability**, and **versatility**. It was created by **Guido van Rossum** and released in **1991**. Python supports multiple programming paradigms including **procedural**, **object-oriented**, and **functional** programming.\n",
    "\n",
    "### 🔑 Key Features of Python:\n",
    "- **Easy to learn and use** – Simple syntax similar to English.\n",
    "- **Interpreted language** – Code runs line by line, no need to compile.\n",
    "- **Dynamically typed** – No need to declare variable types.\n",
    "- **Vast ecosystem of libraries** – NumPy, Pandas, TensorFlow, Scikit-learn, Matplotlib, etc.\n",
    "- **Cross-platform** – Works on Windows, Linux, and macOS.\n",
    "- **Large community support** – Plenty of tutorials, documentation, and forums.\n",
    "\n",
    "---\n",
    "\n",
    "# 🤖 Why Python for Machine Learning & Data Science?\n",
    "\n",
    "Python has become the **de facto language** for Machine Learning (ML) and Data Science due to several advantages:\n",
    "\n",
    "### ✅ Rich Libraries & Frameworks:\n",
    "- **NumPy & Pandas** – Efficient data handling and analysis.\n",
    "- **Matplotlib & Seaborn** – Data visualization.\n",
    "- **Scikit-learn** – Classic ML algorithms.\n",
    "- **TensorFlow, PyTorch, Keras** – Deep learning frameworks.\n",
    "- **NLTK, SpaCy, Hugging Face** – For Natural Language Processing.\n",
    "\n",
    "### ✅ Simplicity:\n",
    "Python’s simple syntax allows developers and researchers to **focus on problem-solving** rather than language complexity.\n",
    "\n",
    "### ✅ Community & Tools:\n",
    "Large community support means a wide range of tools, tutorials, and solutions are available online.\n",
    "\n",
    "### ✅ Integration & Scalability:\n",
    "Easily integrates with **C/C++, Java**, and other languages. Also compatible with **big data** tools like Spark, Hadoop, etc.\n",
    "\n",
    "---\n",
    "\n",
    "# ⚙️ Installing Python & Jupyter Notebook\n",
    "\n",
    "To get started with Python for ML and Data Science, follow these steps:\n",
    "\n",
    "## ✅ Step 1: Install Python (via Anaconda - Recommended)\n",
    "**Anaconda** is a Python distribution that comes with all necessary libraries and tools pre-installed.\n",
    "\n",
    "🔗 Download from: https://www.anaconda.com/products/distribution\n",
    "\n",
    "It includes:\n",
    "- Python interpreter\n",
    "- Jupyter Notebook\n",
    "- Libraries like NumPy, Pandas, Matplotlib, etc.\n",
    "\n",
    "> ❗ If you don't want to use Anaconda, you can install Python from https://www.python.org and then install packages manually using `pip`.\n",
    "\n",
    "---\n",
    "\n",
    "## ✅ Step 2: Launch Jupyter Notebook\n",
    "After installing Anaconda:\n",
    "1. Open **Anaconda Navigator**\n",
    "2. Click on **Jupyter Notebook**\n",
    "3. A browser window will open → You can now create `.ipynb` files to write and run Python code.\n",
    "\n",
    "Alternatively, you can launch from terminal:\n",
    "```bash\n",
    "jupyter notebook\n"
   ]
  },
  {
   "cell_type": "markdown",
   "id": "bde09d2d",
   "metadata": {},
   "source": [
    "# 🐍 Python Basics - Getting Started\n",
    "\n",
    "---\n",
    "\n",
    "## ✅ Running Your First Python Program\n",
    "\n",
    "You can run Python code using:\n",
    "- Jupyter Notebook (recommended for ML & Data Science)\n",
    "- VS Code / PyCharm\n",
    "- Online editors (like Google Colab, Replit)\n",
    "- Python terminal\n",
    "\n",
    "### Example: Your First Python Program"
   ]
  },
  {
   "cell_type": "code",
   "execution_count": 1,
   "id": "c43dc598",
   "metadata": {},
   "outputs": [
    {
     "name": "stdout",
     "output_type": "stream",
     "text": [
      "Hello, World!\n"
     ]
    }
   ],
   "source": [
    "# This is a simple Python program\n",
    "print(\"Hello, World!\")"
   ]
  }
 ],
 "metadata": {
  "kernelspec": {
   "display_name": "Python 3",
   "language": "python",
   "name": "python3"
  },
  "language_info": {
   "codemirror_mode": {
    "name": "ipython",
    "version": 3
   },
   "file_extension": ".py",
   "mimetype": "text/x-python",
   "name": "python",
   "nbconvert_exporter": "python",
   "pygments_lexer": "ipython3",
   "version": "3.11.0"
  }
 },
 "nbformat": 4,
 "nbformat_minor": 5
}
