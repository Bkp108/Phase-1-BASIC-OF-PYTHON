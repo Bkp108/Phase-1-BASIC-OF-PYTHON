{
 "cells": [
  {
   "cell_type": "markdown",
   "id": "2b34a0d5",
   "metadata": {},
   "source": [
    "## ✅ 3. Control Structures\n",
    "\n",
    "- `if`, `else`, `elif` statements\n",
    "- `while` loop\n",
    "- `for` loop\n",
    "- `break`, `continue`, `pass` statements\n",
    "- `range()` function\n",
    "- Nested loops\n",
    "\n",
    "---\n"
   ]
  },
  {
   "cell_type": "markdown",
   "id": "7e2e22c0",
   "metadata": {},
   "source": [
    "# ✅ 3. Control Structures in Python\n",
    "\n",
    "Control structures help in **decision making** and **looping** in a Python program.\n",
    "\n",
    "---\n",
    "\n",
    "## 🔹 if, elif, else Statements\n",
    "\n",
    "These are used for **conditional execution** of code.\n",
    "\n",
    "### ✅ Syntax:\n",
    "\n",
    "```python\n",
    "if condition:\n",
    "    # code block\n",
    "elif another_condition:\n",
    "    # code block\n",
    "else:\n",
    "    # code block\n"
   ]
  },
  {
   "cell_type": "code",
   "execution_count": null,
   "id": "e2ee9147",
   "metadata": {},
   "outputs": [
    {
     "name": "stdout",
     "output_type": "stream",
     "text": [
      "Equal to 15\n"
     ]
    }
   ],
   "source": [
    "# Example\n",
    "x = 15\n",
    "\n",
    "if x < 10:\n",
    "    print(\"Less than 10\")\n",
    "elif x == 15:\n",
    "    print(\"Equal to 15\")\n",
    "else:\n",
    "    print(\"Something else\")\n"
   ]
  },
  {
   "cell_type": "markdown",
   "id": "a4dff0da",
   "metadata": {},
   "source": [
    "### 🔸 Nested if:"
   ]
  },
  {
   "cell_type": "code",
   "execution_count": null,
   "id": "73393eeb",
   "metadata": {},
   "outputs": [
    {
     "name": "stdout",
     "output_type": "stream",
     "text": [
      "Adult\n"
     ]
    }
   ],
   "source": [
    "age = 20\n",
    "if age > 10:\n",
    "    if age > 18:\n",
    "        print(\"Adult\")\n",
    "    else:\n",
    "        print(\"Teenager\")"
   ]
  },
  {
   "cell_type": "markdown",
   "id": "c261d16b",
   "metadata": {},
   "source": [
    "\n",
    "---\n",
    "\n",
    "## 🔹 while Loop\n",
    "\n",
    "The `while` loop keeps executing as long as the condition is `True`.\n",
    "\n",
    "### ✅ Syntax:\n",
    "\n",
    "```python\n",
    "while condition:\n",
    "    # loop body\n",
    "```"
   ]
  },
  {
   "cell_type": "code",
   "execution_count": null,
   "id": "a0b7b630",
   "metadata": {},
   "outputs": [
    {
     "name": "stdout",
     "output_type": "stream",
     "text": [
      "Count is: 1\n",
      "Count is: 2\n",
      "Count is: 3\n",
      "Count is: 4\n",
      "Count is: 5\n"
     ]
    }
   ],
   "source": [
    "# Example\n",
    "count = 1\n",
    "while count <= 5:\n",
    "    print(\"Count is:\", count)\n",
    "    count += 1"
   ]
  },
  {
   "cell_type": "markdown",
   "id": "3d612e54",
   "metadata": {},
   "source": [
    "🔸 Infinite loop (avoid this unless needed):"
   ]
  },
  {
   "cell_type": "code",
   "execution_count": null,
   "id": "f6bcacb6",
   "metadata": {},
   "outputs": [],
   "source": [
    "# while True:\n",
    "#     print(\"This runs forever\")"
   ]
  },
  {
   "cell_type": "markdown",
   "id": "2db0af6d",
   "metadata": {},
   "source": [
    "\n",
    "---\n",
    "\n",
    "## 🔹 for Loop\n",
    "\n",
    "The `for` loop is used to **iterate over a sequence** like list, tuple, string, or range.\n",
    "\n",
    "### ✅ Syntax:\n",
    "\n",
    "```python\n",
    "for variable in sequence:\n",
    "    # loop body\n",
    "```"
   ]
  },
  {
   "cell_type": "code",
   "execution_count": null,
   "id": "ea551b62",
   "metadata": {},
   "outputs": [
    {
     "name": "stdout",
     "output_type": "stream",
     "text": [
      "apple\n",
      "banana\n",
      "mango\n",
      "P\n",
      "y\n",
      "t\n",
      "h\n",
      "o\n",
      "n\n"
     ]
    }
   ],
   "source": [
    "### ✅ Examples:\n",
    "\n",
    "# Iterating over list\n",
    "fruits = [\"apple\", \"banana\", \"mango\"]\n",
    "for fruit in fruits:\n",
    "    print(fruit)\n",
    "\n",
    "# Iterating over string\n",
    "for letter in \"Python\":\n",
    "    print(letter)"
   ]
  },
  {
   "cell_type": "markdown",
   "id": "a3be3a2e",
   "metadata": {},
   "source": [
    "\n",
    "---\n",
    "\n",
    "## 🔹 break, continue, pass Statements\n",
    "\n",
    "These are **loop control statements**.\n",
    "\n",
    "### ✅ break\n",
    "\n",
    "Used to **exit** the loop early.\n"
   ]
  },
  {
   "cell_type": "code",
   "execution_count": null,
   "id": "7064b305",
   "metadata": {},
   "outputs": [
    {
     "name": "stdout",
     "output_type": "stream",
     "text": [
      "0\n",
      "1\n",
      "2\n",
      "3\n",
      "4\n"
     ]
    }
   ],
   "source": [
    "for i in range(10):\n",
    "    if i == 5:\n",
    "        break\n",
    "    print(i)  # prints 0 to 4"
   ]
  },
  {
   "cell_type": "markdown",
   "id": "e97bd02a",
   "metadata": {},
   "source": [
    "### ✅ continue\n",
    "\n",
    "Used to **skip current iteration** and continue with the next one."
   ]
  },
  {
   "cell_type": "code",
   "execution_count": null,
   "id": "ceabcbe9",
   "metadata": {},
   "outputs": [
    {
     "name": "stdout",
     "output_type": "stream",
     "text": [
      "0\n",
      "1\n",
      "3\n",
      "4\n"
     ]
    }
   ],
   "source": [
    "for i in range(5):\n",
    "    if i == 2:\n",
    "        continue\n",
    "    print(i)  # skips 2"
   ]
  },
  {
   "cell_type": "markdown",
   "id": "b35e625e",
   "metadata": {},
   "source": [
    "### ✅ pass\n",
    "\n",
    "Used as a **placeholder** when no action is required.\n",
    "\n"
   ]
  },
  {
   "cell_type": "code",
   "execution_count": null,
   "id": "b6ef0b67",
   "metadata": {},
   "outputs": [],
   "source": [
    "for i in range(3):\n",
    "    pass  # does nothing\n",
    "\n",
    "if True:\n",
    "    pass  # Placeholder for future code"
   ]
  },
  {
   "cell_type": "markdown",
   "id": "b7785228",
   "metadata": {},
   "source": [
    "\n",
    "---\n",
    "\n",
    "## 🔹 range() Function\n",
    "\n",
    "`range()` is commonly used with loops to generate a sequence of numbers.\n",
    "\n",
    "### ✅ Syntax:\n",
    "\n",
    "```python\n",
    "range(start, stop, step)\n",
    "```\n",
    "\n",
    "- `start`: starting number (default is 0)\n",
    "- `stop`: end before this number\n",
    "- `step`: gap between each number\n"
   ]
  },
  {
   "cell_type": "markdown",
   "id": "554743c9",
   "metadata": {},
   "source": [
    "### ✅ Examples:"
   ]
  },
  {
   "cell_type": "code",
   "execution_count": null,
   "id": "1581a295",
   "metadata": {},
   "outputs": [
    {
     "name": "stdout",
     "output_type": "stream",
     "text": [
      "[0, 1, 2, 3, 4]\n",
      "[2, 3, 4, 5, 6, 7]\n",
      "[1, 3, 5, 7, 9]\n"
     ]
    }
   ],
   "source": [
    "print(list(range(5)))         # [0, 1, 2, 3, 4]\n",
    "print(list(range(2, 8)))      # [2, 3, 4, 5, 6, 7]\n",
    "print(list(range(1, 10, 2)))  # [1, 3, 5, 7, 9]"
   ]
  },
  {
   "cell_type": "markdown",
   "id": "e5cb9ff7",
   "metadata": {},
   "source": [
    "Use with `for` loop:"
   ]
  },
  {
   "cell_type": "code",
   "execution_count": null,
   "id": "e752e108",
   "metadata": {},
   "outputs": [
    {
     "name": "stdout",
     "output_type": "stream",
     "text": [
      "Loop: 0\n",
      "Loop: 1\n",
      "Loop: 2\n"
     ]
    }
   ],
   "source": [
    "for i in range(3):\n",
    "    print(\"Loop:\", i)"
   ]
  },
  {
   "cell_type": "markdown",
   "id": "de880b0d",
   "metadata": {},
   "source": [
    "\n",
    "---\n",
    "\n",
    "## 🔹 Nested Loops\n",
    "\n",
    "A loop inside another loop.\n"
   ]
  },
  {
   "cell_type": "markdown",
   "id": "65fcb333",
   "metadata": {},
   "source": [
    "### ✅ Example:"
   ]
  },
  {
   "cell_type": "code",
   "execution_count": null,
   "id": "8811e4b9",
   "metadata": {},
   "outputs": [
    {
     "name": "stdout",
     "output_type": "stream",
     "text": [
      "i=1, j=1\n",
      "i=1, j=2\n",
      "i=1, j=3\n",
      "i=2, j=1\n",
      "i=2, j=2\n",
      "i=2, j=3\n",
      "i=3, j=1\n",
      "i=3, j=2\n",
      "i=3, j=3\n"
     ]
    }
   ],
   "source": [
    "for i in range(1, 4):\n",
    "    for j in range(1, 4):\n",
    "        print(f\"i={i}, j={j}\")\n"
   ]
  },
  {
   "cell_type": "markdown",
   "id": "b899ab35",
   "metadata": {},
   "source": [
    "Print Pattern:"
   ]
  },
  {
   "cell_type": "code",
   "execution_count": null,
   "id": "52b238a5",
   "metadata": {},
   "outputs": [
    {
     "name": "stdout",
     "output_type": "stream",
     "text": [
      "*\n",
      "**\n",
      "***\n",
      "****\n"
     ]
    }
   ],
   "source": [
    "for i in range(1, 5):\n",
    "    for j in range(i):\n",
    "        print(\"*\", end=\"\")\n",
    "    print()  # new line\n"
   ]
  },
  {
   "cell_type": "markdown",
   "id": "906bd26b",
   "metadata": {},
   "source": [
    "\n",
    "---\n",
    "\n",
    "## ✅ Summary Table\n",
    "\n",
    "| Structure      | Purpose                         |\n",
    "|----------------|---------------------------------|\n",
    "| `if-elif-else` | Decision making                 |\n",
    "| `while`        | Repeat while condition is true  |\n",
    "| `for`          | Iterates over a sequence        |\n",
    "| `break`        | Exit the loop early             |\n",
    "| `continue`     | Skip current iteration          |\n",
    "| `pass`         | Do nothing (placeholder)        |\n",
    "| `range()`      | Generate number sequence        |\n",
    "| Nested Loops   | Loop inside loop (2D tasks)     |\n"
   ]
  }
 ],
 "metadata": {
  "language_info": {
   "name": "python"
  }
 },
 "nbformat": 4,
 "nbformat_minor": 5
}
